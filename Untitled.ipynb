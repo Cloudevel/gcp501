{
 "cells": [
  {
   "cell_type": "markdown",
   "id": "3bea7523",
   "metadata": {},
   "source": [
    "# Incial."
   ]
  },
  {
   "cell_type": "markdown",
   "id": "1d590e17",
   "metadata": {},
   "source": [
    "## Fuentes de datos."
   ]
  },
  {
   "cell_type": "markdown",
   "id": "e94fcbe9",
   "metadata": {},
   "source": [
    "### Carga *CSV*.\n",
    "\n",
    "* Incorrecto. [Casos_Diarios_Estado_Nacional_Confirmados_20220430.csv](data/Casos_Diarios_Estado_Nacional_Confirmados_20220430.csv)\n",
    "* Columnar. [data_covid.csv](data/data_covid.csv)\n"
   ]
  },
  {
   "cell_type": "markdown",
   "id": "af404a84",
   "metadata": {},
   "source": [
    "## Series de tiempo."
   ]
  },
  {
   "cell_type": "markdown",
   "id": "b34caea8",
   "metadata": {},
   "source": [
    "## Controles."
   ]
  },
  {
   "cell_type": "markdown",
   "id": "b2f2889f",
   "metadata": {},
   "source": [
    "## Buckets."
   ]
  },
  {
   "cell_type": "markdown",
   "id": "7ab399f9",
   "metadata": {},
   "source": [
    "[total_casos_covid.csv](data/total_casos_covid.csv)"
   ]
  },
  {
   "cell_type": "markdown",
   "id": "a2ccfe62",
   "metadata": {},
   "source": [
    "### Fuciones."
   ]
  },
  {
   "cell_type": "markdown",
   "id": "a1022611",
   "metadata": {},
   "source": [
    "## BigQuery."
   ]
  },
  {
   "cell_type": "markdown",
   "id": "26cff90b",
   "metadata": {},
   "source": [
    "* [registro_py.parquet](data/registro_py.parquet)\n",
    "* [registro_py301.parquet](data/registro_py301.parquet)"
   ]
  },
  {
   "cell_type": "markdown",
   "id": "d8323cd4",
   "metadata": {},
   "source": [
    "## Uniones."
   ]
  },
  {
   "cell_type": "markdown",
   "id": "41ceda26",
   "metadata": {},
   "source": [
    "```SQL\n",
    "SELECT registro.nombre_completo\n",
    "FROM `demo_bigquery.registro` AS registro\n",
    "INNER JOIN `demo_bigquery.py301` AS py301\n",
    "ON registro.nombre_completo = py301.nombre_completo\n",
    "WHERE registro.py101=\"AC\" AND py301.py301='AC';\n",
    "```"
   ]
  },
  {
   "cell_type": "markdown",
   "id": "84ce856c",
   "metadata": {},
   "source": [
    "## Publicación.\n",
    "\n",
    "https://sites.google.com/d/1ml2HYSPvf8ull0fgyMdRQu-4FLByfrAd/edit?ouid=117942666755259980250&usp=sites_home&ths=true"
   ]
  },
  {
   "cell_type": "code",
   "execution_count": null,
   "id": "ab9f5ae3",
   "metadata": {},
   "outputs": [],
   "source": []
  }
 ],
 "metadata": {
  "kernelspec": {
   "display_name": "JavaScript (Node.js)",
   "language": "javascript",
   "name": "javascript"
  },
  "language_info": {
   "file_extension": ".js",
   "mimetype": "application/javascript",
   "name": "javascript",
   "version": "18.6.0"
  }
 },
 "nbformat": 4,
 "nbformat_minor": 5
}
